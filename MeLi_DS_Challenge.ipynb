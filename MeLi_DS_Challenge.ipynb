{
 "cells": [
  {
   "cell_type": "markdown",
   "metadata": {},
   "source": [
    "# Data Science Challenge\n",
    "\n",
    "Problema a resolver:\n",
    "\n",
    "> Dentro del marketplace existen productos similares o idénticos entre sí (son productos vendidos por distintos sellers, en la api puedes obtener y descargar los títulos e incluso las imágenes!). ¿Cómo buscar dichos ítems para agruparlos y volverlos comparables entre sí? Esto permitiría mejorar la experiencia ante muchas opciones similares.\n",
    "\n",
    "Este es un problema clásico de agrupamiento. La solución propuesta compara la información en los títulos o en los atributos de cada producto para encontrar otros productos dentro de la misma subcategoría que se le asemejen. La información contenida en las imágenes de los productos también podría ser útil en este tarea, pero no fue necesaria para obtener este primer prototipo. Además, comparar imágenes incurre en mayores costos de implementación y de computación posteriores. Otro tipo de información que hubiese resultado útil es la de visitas, pero esta no se encuentra disponible en la API pública por lo que pude ver (sí se puede ver cuantas visitas recibió un seller o item, pero no se pueden ver las visitas de cada comprador)."
   ]
  },
  {
   "cell_type": "code",
   "execution_count": 1,
   "metadata": {},
   "outputs": [],
   "source": [
    "import requests\n",
    "\n",
    "import numpy as np\n",
    "import matplotlib.pyplot as plt\n",
    "import scipy\n",
    "import seaborn as sns\n",
    "\n",
    "import sklearn.feature_extraction.text as sktext\n",
    "import sklearn.neighbors as skneigh\n",
    "import sklearn.manifold as skmani\n",
    "\n",
    "%matplotlib inline"
   ]
  },
  {
   "cell_type": "code",
   "execution_count": 2,
   "metadata": {},
   "outputs": [],
   "source": [
    "def attr_parser(item_attrs, cat_attrs):\n",
    "    \"\"\"\n",
    "    Función para parsear y ordenar los atributos de cada item\n",
    "    de acuerdo a los atributos de su categoría.\n",
    "    \n",
    "    Parameters\n",
    "    ----------\n",
    "    \n",
    "    items_attrs : list\n",
    "        Lista con los atributos de cada item.\n",
    "        Obtenida de f'https://api.mercadolibre.com/items/{item_id}'.\n",
    "        \n",
    "    cat_attrs : list\n",
    "        Lista con los atributos de la categoría.\n",
    "        Obtenida de f'https://api.mercadolibre.com/categories/{cat_id}/attributes'.\n",
    "        \n",
    "    Returns\n",
    "    -------\n",
    "    \n",
    "    parsed : list\n",
    "        Lista con los atributos del item ordenados según cat_attrs\n",
    "        y transformado a valores numéricos (floats).\n",
    "    \"\"\"\n",
    "    \n",
    "    parsed = []\n",
    "    for base_attr in cat_attrs:\n",
    "        attr_id = base_attr['id'] \n",
    "\n",
    "        # Look for attribute\n",
    "        attribute_found = False\n",
    "        for attr in item_attrs:\n",
    "            if attr['id'] == attr_id:\n",
    "                value_type = base_attr['value_type']\n",
    "                try:\n",
    "                    if   value_type == 'number':\n",
    "                        parsed.append(float(attr['value_name']))\n",
    "                    elif value_type == 'number_unit':\n",
    "                        # TODO: conversor de unidades\n",
    "                        parsed.append(attr['value_struct']['number']) \n",
    "                    elif value_type == 'string':\n",
    "                        # TODO: apply tokenizer to attribute\n",
    "                        parsed.append(float(attr['value_id']))\n",
    "                    elif value_type == 'boolean':\n",
    "                        parsed.append(1.0 if attr['value_id']=='242085' else 0.0)\n",
    "                    elif value_type == 'list':\n",
    "                        # TODO: implement list parsing\n",
    "                        parsed.append(0.0)\n",
    "                except:\n",
    "                    parsed.append(0.0)\n",
    "                \n",
    "                attribute_found = True\n",
    "                break\n",
    "\n",
    "        # Attribute not found\n",
    "        if not attribute_found:\n",
    "            parsed.append(0.0)\n",
    "    \n",
    "    return parsed"
   ]
  },
  {
   "cell_type": "code",
   "execution_count": 3,
   "metadata": {},
   "outputs": [],
   "source": [
    "# Target\n",
    "site_id = 'MLA' # Argentina\n",
    "\n",
    "# target_id = f'{site_id}1100783124' # Pila AAA\n",
    "target_id = f'{site_id}1101556021' # Multiprocesadora"
   ]
  },
  {
   "cell_type": "code",
   "execution_count": 4,
   "metadata": {},
   "outputs": [
    {
     "name": "stdout",
     "output_type": "stream",
     "text": [
      "Item a buscar: Multiprocesadora Smartlife Sl-fp0509 1000w Negra Y Acero Inoxidable 220v - 240v\n"
     ]
    }
   ],
   "source": [
    "# Get item\n",
    "# Extract info from target item\n",
    "url  = f'https://api.mercadolibre.com/items/{target_id}'\n",
    "req  = requests.get(url)\n",
    "info = req.json()\n",
    "target = info['title']\n",
    "\n",
    "print('Item a buscar:', target)"
   ]
  },
  {
   "cell_type": "markdown",
   "metadata": {},
   "source": [
    "Obtengo la categoría y busco sus atributos. Gracias al esfuerzo puestos en generar y mantener un buen árbol de categorías es fácil restringir el universo de búsquedas.\n",
    "\n",
    "Cabe destacar que funciones de la API tales como _domain discovery_ realizan una tarea similar a la aquí propuesta y sería interesante comparar approaches."
   ]
  },
  {
   "cell_type": "code",
   "execution_count": 5,
   "metadata": {},
   "outputs": [],
   "source": [
    "# Get categoy and attributes\n",
    "cat_id = info['category_id']\n",
    "url = f'https://api.mercadolibre.com/categories/{cat_id}/attributes'\n",
    "req = requests.get(url)\n",
    "cat_attrs = req.json()\n",
    "target_attr = attr_parser(info['attributes'], cat_attrs)\n",
    "target_attr = np.array(target_attr).reshape(1,-1)\n",
    "target_loc  = info['seller_address']['search_location']['state']['id']"
   ]
  },
  {
   "cell_type": "code",
   "execution_count": 6,
   "metadata": {},
   "outputs": [],
   "source": [
    "# Get items in categories\n",
    "limit = 50\n",
    "items = []\n",
    "\n",
    "url = f'https://api.mercadolibre.com/sites/{site_id}/search?category={cat_id}'\n",
    "req = requests.get(url)\n",
    "total = req.json()['paging']['total']\n",
    "\n",
    "if total>1000: total = 1000 # Sin AUTHTOKEN no deja ver más de 1000 registros\n",
    "total = 200 ##### ACTUALIZAR ESTO DESPUES\n",
    "\n",
    "items = items + req.json()['results']\n",
    "for offset in range(limit, total, limit):\n",
    "    url = f'https://api.mercadolibre.com/sites/{site_id}/search?category={cat_id}&offset={offset}'\n",
    "    req = requests.get(url)\n",
    "    info  = req.json()\n",
    "    \n",
    "    items = items + info['results']"
   ]
  },
  {
   "cell_type": "markdown",
   "metadata": {},
   "source": [
    "Se podría crear un diccionario más grande viendo las descripciones en /items/{item_id}/description"
   ]
  },
  {
   "cell_type": "code",
   "execution_count": 36,
   "metadata": {},
   "outputs": [],
   "source": [
    "# Extract features from items\n",
    "titles      = []\n",
    "item_ids    = []\n",
    "attributes  = []\n",
    "for unit in items:\n",
    "    url  = f'https://api.mercadolibre.com/items/{unit[\"id\"]}'\n",
    "    req  = requests.get(url)\n",
    "    info = req.json()\n",
    "    try:\n",
    "        # Restricción geográfica\n",
    "        if info['seller_address']['search_location']['state']['id'] == target_loc:\n",
    "            item_ids.append(info['id'])\n",
    "            titles.append(info['title'])\n",
    "            attributes.append(attr_parser(info['attributes'], cat_attrs))\n",
    "    except KeyError:\n",
    "        pass\n",
    "    \n",
    "titles     = np.array(titles)\n",
    "item_ids   = np.array(item_ids)\n",
    "attributes = np.array(attributes)"
   ]
  },
  {
   "cell_type": "markdown",
   "metadata": {},
   "source": [
    "Algunos atributos están ordenados y hasta pueden ser contínuos, como el precio, pero otros, como la marca, no. Esto puede tener consecuencias interesantes a la hora de comparar atributos."
   ]
  },
  {
   "cell_type": "code",
   "execution_count": 40,
   "metadata": {},
   "outputs": [
    {
     "name": "stdout",
     "output_type": "stream",
     "text": [
      "(141, 51)\n"
     ]
    }
   ],
   "source": [
    "# Normalizo atributos\n",
    "print(np.shape(attributes))\n",
    "attrs_max = attributes.max(axis=0)\n",
    "attrs_max[attrs_max==0.0] = 1"
   ]
  },
  {
   "cell_type": "code",
   "execution_count": 45,
   "metadata": {},
   "outputs": [],
   "source": [
    "target_attr = target_attr/attrs_max\n",
    "attributes  = attributes/attrs_max"
   ]
  },
  {
   "cell_type": "markdown",
   "metadata": {},
   "source": [
    "# Arranco con ML\n",
    "\n",
    "## Agrupación por texto"
   ]
  },
  {
   "cell_type": "code",
   "execution_count": 46,
   "metadata": {},
   "outputs": [],
   "source": [
    "# Tokenizo y normalizo los títulos\n",
    "count_vect = sktext.CountVectorizer()\n",
    "tfidf_tran = sktext.TfidfTransformer()\n",
    "\n",
    "X = count_vect.fit_transform(titles)\n",
    "X = tfidf_tran.fit_transform(X)"
   ]
  },
  {
   "cell_type": "code",
   "execution_count": 47,
   "metadata": {},
   "outputs": [
    {
     "data": {
      "text/plain": [
       "NearestNeighbors()"
      ]
     },
     "execution_count": 47,
     "metadata": {},
     "output_type": "execute_result"
    }
   ],
   "source": [
    "# Armo el mapa\n",
    "nnalg_text = skneigh.NearestNeighbors()\n",
    "nnalg_text.fit(X)"
   ]
  },
  {
   "cell_type": "code",
   "execution_count": 68,
   "metadata": {},
   "outputs": [
    {
     "name": "stdout",
     "output_type": "stream",
     "text": [
      "['Multiprocesadora Smartlife Sl-fp0509 1000w Negra Y Acero Inoxidable 220v - 240v'\n",
      " 'Multiprocesadora Smartlife Con Licuadora 1000w Fp509 Acero'\n",
      " 'Multiprocesadora Liliana Fullpros Am790 1000w Negra 220v - 240v'\n",
      " 'Multiprocesadora Liliana Fullprocessor Am780 750w Negra 220v - 240v'\n",
      " 'Multiprocesadora Liliana Simply Am600 650w Negra 220v - 240v']\n"
     ]
    }
   ],
   "source": [
    "# Realizo la predicción\n",
    "predict = count_vect.transform([target])\n",
    "predict = tfidf_tran.transform(predict)\n",
    "res_text = nnalg_text.kneighbors(predict, return_distance=False)\n",
    "\n",
    "print(np.array(titles)[res_text[0]])"
   ]
  },
  {
   "cell_type": "code",
   "execution_count": 49,
   "metadata": {},
   "outputs": [],
   "source": [
    "total_text_dist, total_text_idxs = nnalg_text.kneighbors(X)"
   ]
  },
  {
   "cell_type": "markdown",
   "metadata": {},
   "source": [
    "## Agrupación por atributos"
   ]
  },
  {
   "cell_type": "code",
   "execution_count": 50,
   "metadata": {},
   "outputs": [
    {
     "data": {
      "text/plain": [
       "NearestNeighbors()"
      ]
     },
     "execution_count": 50,
     "metadata": {},
     "output_type": "execute_result"
    }
   ],
   "source": [
    "# Armo el mapa\n",
    "#attributes = attributes/attributes.max()\n",
    "nnalg_attr = skneigh.NearestNeighbors()\n",
    "nnalg_attr.fit(attributes)"
   ]
  },
  {
   "cell_type": "code",
   "execution_count": 61,
   "metadata": {},
   "outputs": [
    {
     "name": "stdout",
     "output_type": "stream",
     "text": [
      "['Multiprocesadora Smartlife Sl-fp0509 1000w Negra Y Acero Inoxidable 220v - 240v'\n",
      " 'Multiprocesadora Smartlife Con Licuadora 1000w Fp509 Acero'\n",
      " 'Multiprocesadora Electrolux Fpl21 600w Negra 220v'\n",
      " 'Multiprocesadora Electrolux 600w 1,2lt 3 Vel Fpl21 Licuadora'\n",
      " 'Multiprocesadora Electrolux 600w 1,2 Lts 3 Velocidades Fpl20']\n"
     ]
    }
   ],
   "source": [
    "# Realizo la predicción\n",
    "res_attr = nnalg_attr.kneighbors(target_attr, return_distance=False)\n",
    "\n",
    "print(np.array(titles)[res_attr[0]])"
   ]
  },
  {
   "cell_type": "code",
   "execution_count": 52,
   "metadata": {},
   "outputs": [],
   "source": [
    "total_attr_dist, total_attr_idxs = nnalg_attr.kneighbors(attributes)"
   ]
  },
  {
   "cell_type": "markdown",
   "metadata": {},
   "source": [
    "## Comparación"
   ]
  },
  {
   "cell_type": "code",
   "execution_count": 53,
   "metadata": {},
   "outputs": [
    {
     "data": {
      "text/plain": [
       "[<matplotlib.lines.Line2D at 0x7f7806caa280>,\n",
       " <matplotlib.lines.Line2D at 0x7f7806c08160>,\n",
       " <matplotlib.lines.Line2D at 0x7f7806c08df0>,\n",
       " <matplotlib.lines.Line2D at 0x7f7806c08a90>]"
      ]
     },
     "execution_count": 53,
     "metadata": {},
     "output_type": "execute_result"
    },
    {
     "data": {
      "image/png": "[encoded data removed]",
      "text/plain": [
       "<Figure size 432x288 with 1 Axes>"
      ]
     },
     "metadata": {
      "needs_background": "light"
     },
     "output_type": "display_data"
    }
   ],
   "source": [
    "plt.plot(total_attr_idxs[:,1:], 'bo')\n",
    "plt.plot(total_text_idxs[:,1:], 'g.')"
   ]
  },
  {
   "cell_type": "code",
   "execution_count": 54,
   "metadata": {},
   "outputs": [
    {
     "data": {
      "text/plain": [
       "0.17553191489361702"
      ]
     },
     "execution_count": 54,
     "metadata": {},
     "output_type": "execute_result"
    }
   ],
   "source": [
    "np.sum(np.sort(total_attr_idxs[:,1:])==np.sort(total_text_idxs[:,1:]))/(4*len(titles))"
   ]
  },
  {
   "cell_type": "code",
   "execution_count": 55,
   "metadata": {},
   "outputs": [
    {
     "name": "stdout",
     "output_type": "stream",
     "text": [
      "[' Multiprocesadora Liliana Procelic Licuadora Picador Rallado'\n",
      " 'Multi Procesadora + Licuadora Experty Liliana 6 En 1 Am730'\n",
      " 'Procesadora Multiprocesadora Industrial Moretti Vc-65 Cuotas'\n",
      " 'Multiprocesadora Liliana Procelic 650w Am640 + Licuadora '\n",
      " 'Mini Procesadora Moulinex La Moulinette Picadora Outlet'] \n",
      " [' Multiprocesadora Liliana Procelic Licuadora Picador Rallado'\n",
      " 'Multiprocesadora Liliana Procelic 650w Am640 + Licuadora '\n",
      " 'Multiprocesadora Liliana Procelic Am640 650w Blanca 220v - 240v'\n",
      " 'Picador De Alimentos Ultracomb 600w Pc-6800'\n",
      " 'Multiprocesadora Licuadora Liliana 650w Picadora 3 Vel + Pul']\n"
     ]
    }
   ],
   "source": [
    "ii = 43\n",
    "print(np.array(titles)[total_attr_idxs[ii]],'\\n',np.array(titles)[total_text_idxs[ii]])"
   ]
  },
  {
   "cell_type": "code",
   "execution_count": 56,
   "metadata": {},
   "outputs": [
    {
     "name": "stdout",
     "output_type": "stream",
     "text": [
      "['Smart-tek Sm2026 Easy Chop Rebanador Cortador Rallador Acero'\n",
      " 'Rallador Rebanador Electrico Smart-tek Easychop Sm3026 150w '\n",
      " 'Rallador Eléctrico Smart-tek Easy Chop Verduras Queso Rebanador'\n",
      " 'Mini Procesadora 900 Ml Chopper Manual 2 En 1 + Batidora '\n",
      " 'Rallador Electrico Fruta Verdura'] \n",
      " ['Smart-tek Sm2026 Easy Chop Rebanador Cortador Rallador Acero'\n",
      " 'Rallador Eléctrico Smart-tek Easy Chop Verduras Queso Rebanador'\n",
      " ' Rebanador Electrico Easy Chop Verduras Queso Rallador'\n",
      " 'Rallador Rebanador Electrico Smart-tek Easychop Sm3026 150w '\n",
      " 'Rallador Cortador De Alimentos Ultracomb 150w Gr-2600']\n"
     ]
    }
   ],
   "source": [
    "ii = 37\n",
    "print(np.array(titles)[total_attr_idxs[ii]],'\\n',np.array(titles)[total_text_idxs[ii]])"
   ]
  },
  {
   "cell_type": "markdown",
   "metadata": {},
   "source": [
    "Consideraciones posibles: separar por seller, marca, precio, etc. Esto depende un poco de la estrategia de venta y que se le quiere mostrar al usuario. Se puede implementar desde el mismo algoritmo de Nearest Neighbors pasandole una métrica que pese más o menos a las distintas variables, o post-procesando los resultados también."
   ]
  },
  {
   "cell_type": "markdown",
   "metadata": {},
   "source": [
    "# Visulizaciones"
   ]
  },
  {
   "cell_type": "code",
   "execution_count": 57,
   "metadata": {},
   "outputs": [],
   "source": [
    "tsne = skmani.TSNE(n_components=2)\n",
    "tsne_results = tsne.fit_transform(X)"
   ]
  },
  {
   "cell_type": "code",
   "execution_count": 63,
   "metadata": {},
   "outputs": [
    {
     "data": {
      "image/png": "[encoded data removed]",
      "text/plain": [
       "<Figure size 1152x720 with 1 Axes>"
      ]
     },
     "metadata": {
      "needs_background": "light"
     },
     "output_type": "display_data"
    }
   ],
   "source": [
    "data = {}\n",
    "data['tsne-2d-one'] = tsne_results[:,0]\n",
    "data['tsne-2d-two'] = tsne_results[:,1]\n",
    "plt.figure(figsize=(16,10))\n",
    "\n",
    "sns.scatterplot(\n",
    "    x=\"tsne-2d-one\", y=\"tsne-2d-two\",\n",
    "    palette=sns.color_palette(\"hls\", 10),\n",
    "    data=data,\n",
    "    legend=\"full\",\n",
    "    alpha=0.3\n",
    ")\n",
    "\n",
    "for ii in res_text[0]:\n",
    "    plt.plot(data['tsne-2d-one'][ii], data['tsne-2d-two'][ii], 'o')\n",
    "    \n",
    "for ii in res_attr[0]:\n",
    "    plt.plot(data['tsne-2d-one'][ii], data['tsne-2d-two'][ii], '^')\n"
   ]
  },
  {
   "cell_type": "code",
   "execution_count": null,
   "metadata": {},
   "outputs": [],
   "source": []
  }
 ],
 "metadata": {
  "kernelspec": {
   "display_name": "Python 3",
   "language": "python",
   "name": "python3"
  },
  "language_info": {
   "codemirror_mode": {
    "name": "ipython",
    "version": 3
   },
   "file_extension": ".py",
   "mimetype": "text/x-python",
   "name": "python",
   "nbconvert_exporter": "python",
   "pygments_lexer": "ipython3",
   "version": "3.8.10"
  }
 },
 "nbformat": 4,
 "nbformat_minor": 4
}
