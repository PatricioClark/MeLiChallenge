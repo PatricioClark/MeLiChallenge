{
 "cells": [
  {
   "cell_type": "code",
   "execution_count": 77,
   "metadata": {},
   "outputs": [],
   "source": [
    "import numpy as np\n",
    "import matplotlib.pyplot as plt\n",
    "import requests\n",
    "import sklearn.feature_extraction.text as sktext\n",
    "import sklearn.neighbors as skneigh\n",
    "import scipy"
   ]
  },
  {
   "cell_type": "code",
   "execution_count": 49,
   "metadata": {},
   "outputs": [],
   "source": [
    "def attr_parser(item_attrs, cat_attrs):\n",
    "    # Parsea los atributes preservando orden\n",
    "    parsed = []\n",
    "    for base_attr in cat_attrs:\n",
    "        attr_id = base_attr['id'] \n",
    "\n",
    "        # Look for attribute\n",
    "        attribute_found = False\n",
    "        for attr in item_attrs:\n",
    "            if attr['id'] == attr_id:\n",
    "                value_type = base_attr['value_type']\n",
    "                try:\n",
    "                    if   value_type == 'number':\n",
    "                        parsed.append(int(attr['value_name']))\n",
    "                    elif value_type == 'number_unit':\n",
    "                        # TODO: conversor de unidades\n",
    "                        parsed.append(attr['value_struct']['number']) \n",
    "                    elif value_type == 'string':\n",
    "                        # TODO: apply tokenizer to attribute\n",
    "                        parsed.append(attr['value_id'])\n",
    "                    elif value_type == 'boolean':\n",
    "                        parsed.append(True if attr['value_id']=='242085' else False)\n",
    "                    elif value_type == 'list':\n",
    "                        # TODO: implement list parsing\n",
    "                        pass\n",
    "                except TypeError:\n",
    "                    parsed.append(None)\n",
    "                \n",
    "                attribute_found = True\n",
    "                break\n",
    "\n",
    "        # Attribute not found\n",
    "        if not attribute_found:\n",
    "            parsed.append(None)\n",
    "    \n",
    "    return parsed"
   ]
  },
  {
   "cell_type": "code",
   "execution_count": 19,
   "metadata": {},
   "outputs": [],
   "source": [
    "# Target\n",
    "site_id = 'MLA'\n",
    "item_id = f'{site_id}1100783124'"
   ]
  },
  {
   "cell_type": "code",
   "execution_count": 70,
   "metadata": {},
   "outputs": [],
   "source": [
    "# 1 - Get item\n",
    "# Extract info from target item\n",
    "url  = f'https://api.mercadolibre.com/items/{item_id}'\n",
    "req  = requests.get(url)\n",
    "info = req.json()\n",
    "req  = requests.get(url+'/description')\n",
    "desc = req.json()['plain_text']\n",
    "target = info['title']"
   ]
  },
  {
   "cell_type": "markdown",
   "metadata": {},
   "source": [
    "Obtengo la categoría y busco sus atributos. Para expandir el universo de posibilidades una opción podría ser buscar en que otras categorías se podría encontrar el item mediante la funcioón de _domain discovery_ de la API"
   ]
  },
  {
   "cell_type": "code",
   "execution_count": 16,
   "metadata": {},
   "outputs": [],
   "source": [
    "# 2 - Get categoy and attributes\n",
    "cat_id = info['category_id']\n",
    "url = f'https://api.mercadolibre.com/categories/{cat_id}/attributes'\n",
    "req = requests.get(url)\n",
    "cat_attrs = req.json()"
   ]
  },
  {
   "cell_type": "code",
   "execution_count": 18,
   "metadata": {},
   "outputs": [],
   "source": [
    "# 3 - Get items in categories\n",
    "limit = 50\n",
    "items = []\n",
    "\n",
    "url = f'https://api.mercadolibre.com/sites/{site_id}/search?category={cat_id}'\n",
    "req = requests.get(url)\n",
    "total = req.json()['paging']['total']\n",
    "if total>1000: total = 1000\n",
    "    \n",
    "total = 200 ##### ACTUALIZAR ESTO DESPUES\n",
    "\n",
    "items = items + req.json()['results']\n",
    "for offset in range(limit, total, limit):\n",
    "    url = f'https://api.mercadolibre.com/sites/{site_id}/search?category={cat_id}&offset={offset}'\n",
    "    req = requests.get(url)\n",
    "    items = items + req.json()['results']"
   ]
  },
  {
   "cell_type": "code",
   "execution_count": null,
   "metadata": {},
   "outputs": [],
   "source": [
    "# Extract features from items\n",
    "titles = []\n",
    "attributes  = []\n",
    "for unit in items:\n",
    "    url  = f'https://api.mercadolibre.com/items/{unit[\"id\"]}'\n",
    "    req  = requests.get(url)\n",
    "    info = req.json()\n",
    "    titles.append(info['title'])\n",
    "    attributes.append(attr_parser(info['attributes'], cat_attrs))\n",
    "\n",
    "    # Get descriptions at random to help build vocabulary\n",
    "    if False:\n",
    "        req  = requests.get(url+'/description')\n",
    "        desc = req.json()['plain_text']"
   ]
  },
  {
   "cell_type": "code",
   "execution_count": 72,
   "metadata": {},
   "outputs": [],
   "source": [
    "count_vect = sktext.CountVectorizer()\n",
    "tfidf_tran = sktext.TfidfTransformer()\n",
    "\n",
    "X = count_vect.fit_transform(titles)\n",
    "X = tfidf_tran.fit_transform(X)"
   ]
  },
  {
   "cell_type": "code",
   "execution_count": 73,
   "metadata": {},
   "outputs": [
    {
     "data": {
      "text/plain": [
       "NearestNeighbors()"
      ]
     },
     "execution_count": 73,
     "metadata": {},
     "output_type": "execute_result"
    }
   ],
   "source": [
    "nnalg = skneigh.NearestNeighbors()\n",
    "nnalg.fit(X)"
   ]
  },
  {
   "cell_type": "code",
   "execution_count": 78,
   "metadata": {},
   "outputs": [],
   "source": [
    "ll=[]\n",
    "\n",
    "predict = count_vect.transform([target])\n",
    "X_tfidf2 = tfidf_tran.transform(predict)\n",
    "ll.append(X_tfidf2)\n",
    "\n",
    "ll = scipy.sparse.vstack((ll))\n",
    "res = nnalg.kneighbors(ll, return_distance=False)"
   ]
  },
  {
   "cell_type": "code",
   "execution_count": 79,
   "metadata": {},
   "outputs": [
    {
     "data": {
      "text/plain": [
       "array([[  0, 145,   4,  15,  91]])"
      ]
     },
     "execution_count": 79,
     "metadata": {},
     "output_type": "execute_result"
    }
   ],
   "source": [
    "res"
   ]
  },
  {
   "cell_type": "code",
   "execution_count": null,
   "metadata": {},
   "outputs": [],
   "source": []
  }
 ],
 "metadata": {
  "kernelspec": {
   "display_name": "Python 3",
   "language": "python",
   "name": "python3"
  },
  "language_info": {
   "codemirror_mode": {
    "name": "ipython",
    "version": 3
   },
   "file_extension": ".py",
   "mimetype": "text/x-python",
   "name": "python",
   "nbconvert_exporter": "python",
   "pygments_lexer": "ipython3",
   "version": "3.8.10"
  }
 },
 "nbformat": 4,
 "nbformat_minor": 4
}
