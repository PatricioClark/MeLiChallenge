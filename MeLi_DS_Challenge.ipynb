{
 "cells": [
  {
   "cell_type": "code",
   "execution_count": 3,
   "metadata": {},
   "outputs": [],
   "source": [
    "import requests\n",
    "\n",
    "import numpy as np\n",
    "import matplotlib.pyplot as plt\n",
    "import scipy\n",
    "import seaborn as sns\n",
    "\n",
    "import sklearn.feature_extraction.text as sktext\n",
    "import sklearn.neighbors as skneigh\n",
    "import sklearn.manifold as skmani\n",
    "\n",
    "%matplotlib inline"
   ]
  },
  {
   "cell_type": "code",
   "execution_count": 4,
   "metadata": {},
   "outputs": [],
   "source": [
    "def attr_parser(item_attrs, cat_attrs):\n",
    "    # Parsea los atributes preservando orden\n",
    "    parsed = []\n",
    "    for base_attr in cat_attrs:\n",
    "        attr_id = base_attr['id'] \n",
    "\n",
    "        # Look for attribute\n",
    "        attribute_found = False\n",
    "        for attr in item_attrs:\n",
    "            if attr['id'] == attr_id:\n",
    "                value_type = base_attr['value_type']\n",
    "                try:\n",
    "                    if   value_type == 'number':\n",
    "                        parsed.append(float(attr['value_name']))\n",
    "                    elif value_type == 'number_unit':\n",
    "                        # TODO: conversor de unidades\n",
    "                        parsed.append(attr['value_struct']['number']) \n",
    "                    elif value_type == 'string':\n",
    "                        # TODO: apply tokenizer to attribute\n",
    "                        parsed.append(float(attr['value_id']))\n",
    "                    elif value_type == 'boolean':\n",
    "                        parsed.append(1.0 if attr['value_id']=='242085' else 0.0)\n",
    "                    elif value_type == 'list':\n",
    "                        # TODO: implement list parsing\n",
    "                        parsed.append(0.0)\n",
    "                except:\n",
    "                    parsed.append(0.0)\n",
    "                \n",
    "                attribute_found = True\n",
    "                break\n",
    "\n",
    "        # Attribute not found\n",
    "        if not attribute_found:\n",
    "            parsed.append(0.0)\n",
    "    \n",
    "    return parsed"
   ]
  },
  {
   "cell_type": "code",
   "execution_count": 5,
   "metadata": {},
   "outputs": [],
   "source": [
    "# Target\n",
    "site_id = 'MLA'\n",
    "\n",
    "example = 'pila'\n",
    "target_id = f'{site_id}1100783124'\n",
    "\n",
    "example = 'multiproc'\n",
    "target_id = f'{site_id}1101556021'"
   ]
  },
  {
   "cell_type": "code",
   "execution_count": 6,
   "metadata": {},
   "outputs": [
    {
     "name": "stdout",
     "output_type": "stream",
     "text": [
      "Multiprocesadora Smartlife Sl-fp0509 1000w Negra Y Acero Inoxidable 220v - 240v\n"
     ]
    }
   ],
   "source": [
    "# 1 - Get item\n",
    "# Extract info from target item\n",
    "url  = f'https://api.mercadolibre.com/items/{target_id}'\n",
    "req  = requests.get(url)\n",
    "info = req.json()\n",
    "target = info['title']\n",
    "\n",
    "print(target)"
   ]
  },
  {
   "cell_type": "markdown",
   "metadata": {},
   "source": [
    "Obtengo la categoría y busco sus atributos. Para expandir el universo de posibilidades una opción podría ser buscar en que otras categorías se podría encontrar el item mediante la funcioón de _domain discovery_ de la API"
   ]
  },
  {
   "cell_type": "code",
   "execution_count": 7,
   "metadata": {},
   "outputs": [],
   "source": [
    "# 2 - Get categoy and attributes\n",
    "cat_id = info['category_id']\n",
    "url = f'https://api.mercadolibre.com/categories/{cat_id}/attributes'\n",
    "req = requests.get(url)\n",
    "cat_attrs = req.json()\n",
    "target_attr = attr_parser(info['attributes'], cat_attrs)\n",
    "target_attr = np.array(target_attr).reshape(1,-1)"
   ]
  },
  {
   "cell_type": "code",
   "execution_count": 8,
   "metadata": {},
   "outputs": [],
   "source": [
    "# 3 - Get items in categories\n",
    "limit = 50\n",
    "items = []\n",
    "\n",
    "url = f'https://api.mercadolibre.com/sites/{site_id}/search?category={cat_id}'\n",
    "req = requests.get(url)\n",
    "total = req.json()['paging']['total']\n",
    "\n",
    "if total>1000: total = 1000 # Sin AUTHTOKEN no deja ver más de 1000 registros\n",
    "total = 200 ##### ACTUALIZAR ESTO DESPUES\n",
    "\n",
    "items = items + req.json()['results']\n",
    "for offset in range(limit, total, limit):\n",
    "    url = f'https://api.mercadolibre.com/sites/{site_id}/search?category={cat_id}&offset={offset}'\n",
    "    req = requests.get(url)\n",
    "    items = items + req.json()['results']"
   ]
  },
  {
   "cell_type": "markdown",
   "metadata": {},
   "source": [
    "Se podría crear un diccionario más grande viendo las descripciones en /items/{item_id}/description"
   ]
  },
  {
   "cell_type": "code",
   "execution_count": 11,
   "metadata": {},
   "outputs": [],
   "source": [
    "# Extract features from items\n",
    "titles      = []\n",
    "item_ids    = []\n",
    "attributes  = []\n",
    "for unit in items:\n",
    "    url  = f'https://api.mercadolibre.com/items/{unit[\"id\"]}'\n",
    "    req  = requests.get(url)\n",
    "    info = req.json()\n",
    "    try:\n",
    "        item_ids.append(info['id'])\n",
    "        titles.append(info['title'])\n",
    "        attributes.append(attr_parser(info['attributes'], cat_attrs))\n",
    "    except KeyError:\n",
    "        pass\n",
    "    \n",
    "titles     = np.array(titles)\n",
    "item_ids   = np.array(item_ids)\n",
    "attributes = np.array(attributes)"
   ]
  },
  {
   "cell_type": "code",
   "execution_count": 12,
   "metadata": {},
   "outputs": [],
   "source": [
    "np.save(f'titles_{example}', titles)\n",
    "np.save(f'attris_{example}', attributes)\n",
    "#titles = np.load(f'titles_{example}.npy')\n",
    "#attributes = np.load(f'attris_{example}.npy')"
   ]
  },
  {
   "cell_type": "markdown",
   "metadata": {},
   "source": [
    "# Arranco con ML\n",
    "\n",
    "## Agrupación por texto"
   ]
  },
  {
   "cell_type": "code",
   "execution_count": 13,
   "metadata": {},
   "outputs": [],
   "source": [
    "# Tokenizo los títulos\n",
    "count_vect = sktext.CountVectorizer()\n",
    "tfidf_tran = sktext.TfidfTransformer()\n",
    "\n",
    "X = count_vect.fit_transform(titles)\n",
    "X = tfidf_tran.fit_transform(X)"
   ]
  },
  {
   "cell_type": "code",
   "execution_count": 24,
   "metadata": {},
   "outputs": [
    {
     "data": {
      "text/plain": [
       "NearestNeighbors()"
      ]
     },
     "execution_count": 24,
     "metadata": {},
     "output_type": "execute_result"
    }
   ],
   "source": [
    "# Armo el mapa\n",
    "nnalg_text = skneigh.NearestNeighbors()\n",
    "nnalg_text.fit(X)"
   ]
  },
  {
   "cell_type": "code",
   "execution_count": 25,
   "metadata": {},
   "outputs": [
    {
     "name": "stdout",
     "output_type": "stream",
     "text": [
      "['Multiprocesadora Smartlife Sl-fp0509 1000w Negra Y Acero Inoxidable 220v - 240v'\n",
      " 'Procesadora De Alimentos Smartlife Sl-fp0509 1000w Acero '\n",
      " 'Multiprocesadora Smartlife Licuadora  Acero Inoxidable 1000w'\n",
      " 'Multiprocesadora Smartlife Con Licuadora 1000w Fp509 Acero'\n",
      " 'Multiprocesadora Liliana Fullpros Am790 1000w Negra 220v - 240v']\n"
     ]
    }
   ],
   "source": [
    "# Realizo la predicción\n",
    "ll=[]\n",
    "\n",
    "predict = count_vect.transform([target])\n",
    "X_tfidf2 = tfidf_tran.transform(predict)\n",
    "ll.append(X_tfidf2)\n",
    "\n",
    "ll = scipy.sparse.vstack((ll))\n",
    "res = nnalg_text.kneighbors(ll, return_distance=False)\n",
    "\n",
    "print(np.array(titles)[res[0]])"
   ]
  },
  {
   "cell_type": "code",
   "execution_count": 41,
   "metadata": {},
   "outputs": [],
   "source": [
    "total_text_dist, total_text_idxs = nnalg_text.kneighbors(X)"
   ]
  },
  {
   "cell_type": "markdown",
   "metadata": {},
   "source": [
    "## Agrupación por atributos"
   ]
  },
  {
   "cell_type": "code",
   "execution_count": 44,
   "metadata": {},
   "outputs": [
    {
     "data": {
      "text/plain": [
       "NearestNeighbors()"
      ]
     },
     "execution_count": 44,
     "metadata": {},
     "output_type": "execute_result"
    }
   ],
   "source": [
    "# Armo el mapa\n",
    "attributes = attributes/attributes.max()\n",
    "nnalg_attr = skneigh.NearestNeighbors()\n",
    "nnalg_attr.fit(attributes)"
   ]
  },
  {
   "cell_type": "code",
   "execution_count": 45,
   "metadata": {},
   "outputs": [
    {
     "name": "stdout",
     "output_type": "stream",
     "text": [
      "['Multiprocesadora Kitchenaid Kfp0919 250w Empire Red 220v - 400v'\n",
      " 'Multiprocesadora Kitchenaid Kfp0919 250w Onyx Black 220v - 400v'\n",
      " 'Multiprocesadora Black Decker Fp1002 750w 3 Velocidades'\n",
      " 'Multiprocesadora Black Decker Fp1002 3 Veloc 1250ml 750w'\n",
      " 'Multiprocesadora Smartlife Sl-fp0509 1000w Negra Y Acero Inoxidable 220v - 240v']\n"
     ]
    }
   ],
   "source": [
    "# Realizo la predicción\n",
    "res = nnalg_attr.kneighbors(target_attr, return_distance=False)\n",
    "print(np.array(titles)[res[0]])"
   ]
  },
  {
   "cell_type": "code",
   "execution_count": 46,
   "metadata": {},
   "outputs": [],
   "source": [
    "total_attr_dist, total_attr_idxs = nnalg_attr.kneighbors(attributes)"
   ]
  },
  {
   "cell_type": "markdown",
   "metadata": {},
   "source": [
    "## Comparación"
   ]
  },
  {
   "cell_type": "code",
   "execution_count": 49,
   "metadata": {},
   "outputs": [
    {
     "data": {
      "text/plain": [
       "[<matplotlib.lines.Line2D at 0x7f492c33f370>,\n",
       " <matplotlib.lines.Line2D at 0x7f492c318640>,\n",
       " <matplotlib.lines.Line2D at 0x7f492c318730>,\n",
       " <matplotlib.lines.Line2D at 0x7f492c318850>]"
      ]
     },
     "execution_count": 49,
     "metadata": {},
     "output_type": "execute_result"
    },
    {
     "data": {
      "image/png": "[encoded data removed]",
      "text/plain": [
       "<Figure size 432x288 with 1 Axes>"
      ]
     },
     "metadata": {
      "needs_background": "light"
     },
     "output_type": "display_data"
    }
   ],
   "source": [
    "plt.plot(total_attr_idxs[:,1:], 'bo')\n",
    "plt.plot(total_text_idxs[:,1:], 'g.')"
   ]
  },
  {
   "cell_type": "code",
   "execution_count": 64,
   "metadata": {},
   "outputs": [
    {
     "data": {
      "text/plain": [
       "array([1, 3, 2, 2, 0, 1, 0, 3, 0, 0, 0, 0, 0, 1, 0, 1, 0, 0, 0, 0, 0, 0,\n",
       "       0, 0, 2, 0, 1, 0, 0, 1, 0, 0, 1, 1, 1, 1, 3, 0, 1, 2, 1, 0, 1, 2,\n",
       "       1, 0, 0, 0, 0, 1, 2, 0, 1, 3, 1, 0, 0, 0, 2, 0, 0, 1, 0, 1, 1, 0,\n",
       "       2, 1, 0, 0, 0, 1, 1, 0, 1, 0, 0, 1, 3, 2, 1, 0, 1, 0, 0, 1, 0, 2,\n",
       "       0, 0, 0, 0, 0, 0, 0, 0, 0, 0, 1, 1, 1, 0, 0, 1, 0, 1, 2, 3, 0, 0,\n",
       "       1, 0, 1, 0, 2, 0, 1, 0, 0, 3, 0, 0, 0, 1, 0, 0, 0, 0, 0, 0, 1, 1,\n",
       "       0, 0, 1, 1, 0, 0, 0, 0, 2, 0, 2, 1, 0, 0, 0, 2, 3, 0, 0, 1, 1, 0,\n",
       "       0, 1, 0, 1, 0, 2, 0, 0, 0, 0, 0, 1, 0, 1, 1, 0, 0, 0, 0, 0, 0, 0,\n",
       "       0, 1, 0, 0, 2, 0, 0, 1, 0, 0, 1, 0, 2, 0, 0, 0, 1, 1, 0, 0, 1, 0,\n",
       "       1])"
      ]
     },
     "execution_count": 64,
     "metadata": {},
     "output_type": "execute_result"
    }
   ],
   "source": [
    "np.sum(np.sort(total_attr_idxs[:,1:])==np.sort(total_text_idxs[:,1:]),axis=1)"
   ]
  },
  {
   "cell_type": "code",
   "execution_count": 79,
   "metadata": {},
   "outputs": [
    {
     "name": "stdout",
     "output_type": "stream",
     "text": [
      "['Smart-tek Sm2026 Easy Chop Rebanador Cortador Rallador Acero'\n",
      " 'Smartek Sm3026 Rallador Rebanador De Verduras 150w'\n",
      " 'Procesadora Picadora Smart Tek De Alimento Vidrio Mini 2 Vel'\n",
      " 'Rallador Rebanador Electrico Smart-tek Easychop Sm3026 150w '\n",
      " 'Rallador Eléctrico Smart-tek Easy Chop Verduras Queso Rebanador'] \n",
      " ['Smart-tek Sm2026 Easy Chop Rebanador Cortador Rallador Acero'\n",
      " 'Rallador Eléctrico Smart-tek Easy Chop Verduras Queso Rebanador'\n",
      " ' Rebanador Electrico Easy Chop Verduras Queso Rallador'\n",
      " 'Rallador Rebanador Electrico Smart-tek Easychop Sm3026 150w '\n",
      " 'Procesadora Picadora Smart Tek De Alimento Vidrio Mini 2 Vel']\n"
     ]
    }
   ],
   "source": [
    "ii = 43\n",
    "print(np.array(titles)[total_attr_idxs[ii]],'\\n',np.array(titles)[total_text_idxs[ii]])"
   ]
  },
  {
   "cell_type": "markdown",
   "metadata": {},
   "source": [
    "# Visulizaciones"
   ]
  },
  {
   "cell_type": "code",
   "execution_count": null,
   "metadata": {},
   "outputs": [],
   "source": [
    "tsne = skmani.TSNE(n_components=2)\n",
    "tsne_results = tsne.fit_transform(X)"
   ]
  },
  {
   "cell_type": "code",
   "execution_count": null,
   "metadata": {},
   "outputs": [],
   "source": [
    "data = {}\n",
    "data['tsne-2d-one'] = tsne_results[:,0]\n",
    "data['tsne-2d-two'] = tsne_results[:,1]\n",
    "plt.figure(figsize=(16,10))\n",
    "\n",
    "sns.scatterplot(\n",
    "    x=\"tsne-2d-one\", y=\"tsne-2d-two\",\n",
    "    palette=sns.color_palette(\"hls\", 10),\n",
    "    data=data,\n",
    "    legend=\"full\",\n",
    "    alpha=0.3\n",
    ")\n",
    "for ii in res[0]:\n",
    "    plot(data['tsne-2d-one'][ii], data['tsne-2d-two'][ii], 'o')\n"
   ]
  }
 ],
 "metadata": {
  "kernelspec": {
   "display_name": "Python 3",
   "language": "python",
   "name": "python3"
  },
  "language_info": {
   "codemirror_mode": {
    "name": "ipython",
    "version": 3
   },
   "file_extension": ".py",
   "mimetype": "text/x-python",
   "name": "python",
   "nbconvert_exporter": "python",
   "pygments_lexer": "ipython3",
   "version": "3.8.10"
  }
 },
 "nbformat": 4,
 "nbformat_minor": 4
}
