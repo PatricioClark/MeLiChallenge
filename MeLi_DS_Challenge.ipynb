{
 "cells": [
  {
   "cell_type": "markdown",
   "metadata": {},
   "source": [
    "# Data Science Challenge\n",
    "\n",
    "Problema a resolver:\n",
    "\n",
    "> Dentro del marketplace existen productos similares o idénticos entre sí (son productos vendidos por distintos sellers, en la api puedes obtener y descargar los títulos e incluso las imágenes!). ¿Cómo buscar dichos ítems para agruparlos y volverlos comparables entre sí? Esto permitiría mejorar la experiencia ante muchas opciones similares.\n",
    "\n",
    "La solución propuesta compara la información en los títulos o en los atributos de cada producto para encontrar otros productos dentro de la misma subcategoría que se le asemejen. La información contenida en las imágenes de los productos también podría ser útil en este tarea, pero no fue necesaria para obtener este primer prototipo. Además, comparar imágenes incurre en mayores costos de implementación y de computación posteriores. Otro tipo de información que hubiese resultado útil es la de visitas, pero esta no se encuentra disponible en la API pública por lo que pude ver (sí se puede ver cuantas visitas recibió un seller o item, pero no se pueden ver las visitas de cada comprador). La solución propuesta permite filtrar o sopesar los resultados bajo distintos criterios, por ejemplo, si se quiere o no que los productos mostrados sean del mismo seller o marca."
   ]
  },
  {
   "cell_type": "code",
   "execution_count": 175,
   "metadata": {},
   "outputs": [],
   "source": [
    "import requests\n",
    "\n",
    "import numpy as np\n",
    "import matplotlib.pyplot as plt\n",
    "import seaborn as sns\n",
    "\n",
    "import sklearn.feature_extraction.text as sktext\n",
    "import sklearn.neighbors as skneigh\n",
    "import sklearn.manifold as skmani\n",
    "import nltk.corpus as corpus\n",
    "\n",
    "%matplotlib inline"
   ]
  },
  {
   "cell_type": "code",
   "execution_count": 176,
   "metadata": {},
   "outputs": [],
   "source": [
    "def attr_parser(item_attrs, cat_attrs):\n",
    "    \"\"\"\n",
    "    Función para parsear y ordenar los atributos de cada item\n",
    "    de acuerdo a los atributos de su categoría.\n",
    "    \n",
    "    Parameters\n",
    "    ----------\n",
    "    \n",
    "    items_attrs : list\n",
    "        Lista con los atributos de cada item.\n",
    "        Obtenida de f'https://api.mercadolibre.com/items/{item_id}'.\n",
    "        \n",
    "    cat_attrs : list\n",
    "        Lista con los atributos de la categoría.\n",
    "        Obtenida de f'https://api.mercadolibre.com/categories/{cat_id}/attributes'.\n",
    "        \n",
    "    Returns\n",
    "    -------\n",
    "    \n",
    "    parsed : list\n",
    "        Lista con los atributos del item ordenados según cat_attrs\n",
    "        y transformado a valores numéricos (floats).\n",
    "    \"\"\"\n",
    "    \n",
    "    parsed = []\n",
    "    for base_attr in cat_attrs:\n",
    "        attr_id = base_attr['id'] \n",
    "\n",
    "        # Look for attribute\n",
    "        attribute_found = False\n",
    "        for attr in item_attrs:\n",
    "            if attr['id'] == attr_id:\n",
    "                value_type = base_attr['value_type']\n",
    "                try:\n",
    "                    if   value_type == 'number':\n",
    "                        parsed.append(float(attr['value_name']))\n",
    "                    elif value_type == 'number_unit':\n",
    "                        # TODO: conversor de unidades\n",
    "                        parsed.append(attr['value_struct']['number']) \n",
    "                    elif value_type == 'string':\n",
    "                        # TODO: apply tokenizer to attribute\n",
    "                        parsed.append(float(attr['value_id']))\n",
    "                    elif value_type == 'boolean':\n",
    "                        parsed.append(1.0 if attr['value_id']=='242085' else 0.0)\n",
    "                    elif value_type == 'list':\n",
    "                        # TODO: implement list parsing\n",
    "                        parsed.append(0.0)\n",
    "                except:\n",
    "                    parsed.append(0.0)\n",
    "                \n",
    "                attribute_found = True\n",
    "                break\n",
    "\n",
    "        # Attribute not found\n",
    "        if not attribute_found:\n",
    "            parsed.append(0.0)\n",
    "    \n",
    "    return parsed"
   ]
  },
  {
   "cell_type": "code",
   "execution_count": 177,
   "metadata": {},
   "outputs": [],
   "source": [
    "# Target\n",
    "site_id = 'MLA' # Argentina\n",
    "\n",
    "# target_id = f'{site_id}1100783124' # Pila AAA\n",
    "# target_id = f'{site_id}1101556021' # Multiprocesadora\n",
    "# target_id = f'{site_id}928959843' # Bar Carrito\n",
    "target_id = f'{site_id}801358441' # Stereo Auto\n",
    "# target_id = 'f{site_id}1119449548' # Tablet Samsung"
   ]
  },
  {
   "cell_type": "code",
   "execution_count": 178,
   "metadata": {},
   "outputs": [
    {
     "name": "stdout",
     "output_type": "stream",
     "text": [
      "Item a buscar: Stereo Auto Doble Din Pantalla Tactil Mirrorlink Camara Rev!\n"
     ]
    }
   ],
   "source": [
    "# Get item\n",
    "# Extract info from target item\n",
    "url  = f'https://api.mercadolibre.com/items/{target_id}'\n",
    "req  = requests.get(url)\n",
    "info = req.json()\n",
    "target = info['title']\n",
    "\n",
    "print('Item a buscar:', target)"
   ]
  },
  {
   "cell_type": "markdown",
   "metadata": {},
   "source": [
    "Obtengo la categoría y busco sus atributos. Gracias al esfuerzo puestos en generar y mantener un buen árbol de categorías es fácil restringir el universo de búsquedas.\n",
    "\n",
    "Cabe destacar que funciones de la API tales como _domain discovery_ realizan una tarea similar a la aquí propuesta y sería interesante comparar approaches."
   ]
  },
  {
   "cell_type": "code",
   "execution_count": 179,
   "metadata": {},
   "outputs": [],
   "source": [
    "# Get categoy and attributes\n",
    "cat_id = info['category_id']\n",
    "url = f'https://api.mercadolibre.com/categories/{cat_id}/attributes'\n",
    "req = requests.get(url)\n",
    "cat_attrs = req.json()\n",
    "target_attr = attr_parser(info['attributes'], cat_attrs)\n",
    "target_attr = np.array(target_attr).reshape(1,-1)\n",
    "target_loc  = info['seller_address']['search_location']['state']['id']"
   ]
  },
  {
   "cell_type": "code",
   "execution_count": 180,
   "metadata": {},
   "outputs": [],
   "source": [
    "# Get items in categories\n",
    "limit = 50\n",
    "items = []\n",
    "\n",
    "url = f'https://api.mercadolibre.com/sites/{site_id}/search?category={cat_id}'\n",
    "req = requests.get(url)\n",
    "total = req.json()['paging']['total']\n",
    "\n",
    "if total>1000: total = 1000 # Sin AUTHTOKEN no deja ver más de 1000 registros\n",
    "total = 200 ##### Acoto valores\n",
    "\n",
    "items = items + req.json()['results']\n",
    "for offset in range(limit, total, limit):\n",
    "    url = f'https://api.mercadolibre.com/sites/{site_id}/search?category={cat_id}&offset={offset}'\n",
    "    req = requests.get(url)\n",
    "    info  = req.json()\n",
    "    \n",
    "    items = items + info['results']"
   ]
  },
  {
   "cell_type": "markdown",
   "metadata": {},
   "source": [
    "Se podría crear un diccionario más grande viendo las descripciones en /items/{item_id}/description"
   ]
  },
  {
   "cell_type": "code",
   "execution_count": 181,
   "metadata": {},
   "outputs": [],
   "source": [
    "# Extract features from items\n",
    "titles      = []\n",
    "item_ids    = []\n",
    "attributes  = []\n",
    "for unit in items:\n",
    "    url  = f'https://api.mercadolibre.com/items/{unit[\"id\"]}'\n",
    "    req  = requests.get(url)\n",
    "    info = req.json()\n",
    "    try:\n",
    "        # Restricción geográfica\n",
    "        if info['seller_address']['search_location']['state']['id'] == target_loc:\n",
    "            item_ids.append(info['id'])\n",
    "            titles.append(info['title'])\n",
    "            attributes.append(attr_parser(info['attributes'], cat_attrs))\n",
    "    except KeyError:\n",
    "        pass\n",
    "    \n",
    "titles     = np.array(titles)\n",
    "item_ids   = np.array(item_ids)\n",
    "attributes = np.array(attributes)"
   ]
  },
  {
   "cell_type": "markdown",
   "metadata": {},
   "source": [
    "Algunos atributos están ordenados y hasta pueden ser contínuos, como el precio, pero otros, como la marca, no. Esto puede tener consecuencias interesantes a la hora de comparar atributos."
   ]
  },
  {
   "cell_type": "code",
   "execution_count": 182,
   "metadata": {},
   "outputs": [
    {
     "name": "stdout",
     "output_type": "stream",
     "text": [
      "(161, 46)\n"
     ]
    }
   ],
   "source": [
    "# Normalizo atributos\n",
    "print(np.shape(attributes))\n",
    "attrs_max = attributes.max(axis=0)\n",
    "attrs_max[attrs_max==0.0] = 1"
   ]
  },
  {
   "cell_type": "code",
   "execution_count": 183,
   "metadata": {},
   "outputs": [],
   "source": [
    "target_attr = target_attr/attrs_max\n",
    "attributes  = attributes/attrs_max"
   ]
  },
  {
   "cell_type": "markdown",
   "metadata": {},
   "source": [
    "# Agrupamientos\n",
    "\n",
    "Ya obtenida la información realizo agrupamientos mediante el método de Nearest Neighbors.\n",
    "\n",
    "## Agrupamiento por texto"
   ]
  },
  {
   "cell_type": "code",
   "execution_count": 184,
   "metadata": {},
   "outputs": [],
   "source": [
    "# Tokenizo y normalizo los títulos\n",
    "count_vect = sktext.CountVectorizer(stop_words=corpus.stopwords.words('spanish'))\n",
    "tfidf_tran = sktext.TfidfTransformer()\n",
    "\n",
    "X = count_vect.fit_transform(titles)\n",
    "X = tfidf_tran.fit_transform(X)"
   ]
  },
  {
   "cell_type": "code",
   "execution_count": 185,
   "metadata": {},
   "outputs": [
    {
     "data": {
      "text/plain": [
       "NearestNeighbors()"
      ]
     },
     "execution_count": 185,
     "metadata": {},
     "output_type": "execute_result"
    }
   ],
   "source": [
    "# Armo el mapa\n",
    "nnalg_text = skneigh.NearestNeighbors()\n",
    "nnalg_text.fit(X)"
   ]
  },
  {
   "cell_type": "code",
   "execution_count": 186,
   "metadata": {},
   "outputs": [
    {
     "name": "stdout",
     "output_type": "stream",
     "text": [
      "['Stereo Auto Doble Din Pantalla Tactil Mirrorlink Camara Rev!'\n",
      " 'Stereo Auto Doble Din Pantalla Tactil Mirrorlink Camara Rev'\n",
      " 'Stereo Auto Doble Din Pantalla Tactil Mirrorlink Camara Rev'\n",
      " 'Stereo Auto Doble Din Pantalla Tactil Mirrorlink Camara Rev!'\n",
      " 'Stereo Auto Doble Din Pantalla Tactil Mirrorlink Camara Rev']\n",
      "[[0. 0. 0. 0. 0.]]\n"
     ]
    }
   ],
   "source": [
    "# Realizo la predicción\n",
    "predict = count_vect.transform([target])\n",
    "predict = tfidf_tran.transform(predict)\n",
    "dist_text, res_text = nnalg_text.kneighbors(predict, return_distance=True)\n",
    "\n",
    "print(np.array(titles)[res_text[0]])\n",
    "print(dist_text)"
   ]
  },
  {
   "cell_type": "code",
   "execution_count": 187,
   "metadata": {},
   "outputs": [],
   "source": [
    "total_text_dist, total_text_idxs = nnalg_text.kneighbors(X)"
   ]
  },
  {
   "cell_type": "markdown",
   "metadata": {},
   "source": [
    "## Agrupamiento por atributos"
   ]
  },
  {
   "cell_type": "code",
   "execution_count": 188,
   "metadata": {},
   "outputs": [
    {
     "data": {
      "text/plain": [
       "NearestNeighbors()"
      ]
     },
     "execution_count": 188,
     "metadata": {},
     "output_type": "execute_result"
    }
   ],
   "source": [
    "# Armo el mapa\n",
    "nnalg_attr = skneigh.NearestNeighbors()\n",
    "nnalg_attr.fit(attributes)"
   ]
  },
  {
   "cell_type": "code",
   "execution_count": 189,
   "metadata": {},
   "outputs": [
    {
     "name": "stdout",
     "output_type": "stream",
     "text": [
      "['Stereo Auto 2 Din 7018b Pantalla 7 Tactil Bt + 2 Parlantes !'\n",
      " 'Stereo Auto Doble Din Pantalla Tactil Mirrorlink Camara Rev!'\n",
      " 'Stereo Auto Doble Din Pantalla Tactil Camara Rev Cuotas!!'\n",
      " 'Stereo Auto 2 Din 7018b Pantalla 7 Tactil Bt + 4 Parlantes !'\n",
      " 'Stereo Auto Doble Din Pantalla Tactil Mirrorlink Camara Rev!']\n",
      "[[0. 0. 0. 0. 0.]]\n"
     ]
    }
   ],
   "source": [
    "# Realizo la predicción\n",
    "dist_attr, res_attr = nnalg_attr.kneighbors(target_attr, return_distance=True)\n",
    "\n",
    "print(np.array(titles)[res_attr[0]])\n",
    "print(dist_attr)"
   ]
  },
  {
   "cell_type": "code",
   "execution_count": 190,
   "metadata": {},
   "outputs": [],
   "source": [
    "total_attr_dist, total_attr_idxs = nnalg_attr.kneighbors(attributes)"
   ]
  },
  {
   "cell_type": "markdown",
   "metadata": {},
   "source": [
    "## Comparación\n",
    "\n",
    "Analizo las predicciones de cada agrupamiento sobre todos los productos seleccionados de la categoría."
   ]
  },
  {
   "cell_type": "code",
   "execution_count": 191,
   "metadata": {},
   "outputs": [
    {
     "data": {
      "text/plain": [
       "Text(0, 0.5, 'Predicción')"
      ]
     },
     "execution_count": 191,
     "metadata": {},
     "output_type": "execute_result"
    },
    {
     "data": {
      "image/png": "[encoded data removed]",
      "text/plain": [
       "<Figure size 432x288 with 1 Axes>"
      ]
     },
     "metadata": {
      "needs_background": "light"
     },
     "output_type": "display_data"
    }
   ],
   "source": [
    "plt.plot(total_attr_idxs[:,1:], 'bo') # Resultados agrupados por texto\n",
    "plt.plot(total_text_idxs[:,1:], 'g.') # Resultados agrupados por atributos12\n",
    "plt.xlabel('Producto')\n",
    "plt.ylabel('Predicción')"
   ]
  },
  {
   "cell_type": "code",
   "execution_count": 192,
   "metadata": {},
   "outputs": [
    {
     "data": {
      "text/plain": [
       "0.09006211180124224"
      ]
     },
     "execution_count": 192,
     "metadata": {},
     "output_type": "execute_result"
    }
   ],
   "source": [
    "# Calculo la correlación entre ambas predicciones\n",
    "np.sum(np.sort(total_attr_idxs[:,1:])==np.sort(total_text_idxs[:,1:]))/(4*len(titles))"
   ]
  },
  {
   "cell_type": "code",
   "execution_count": 193,
   "metadata": {},
   "outputs": [
    {
     "name": "stdout",
     "output_type": "stream",
     "text": [
      "['Stereo Auto Doble Din Pantalla Tactil Mirrorlink Camara Rev'\n",
      " 'Kit Stereo Pantalla Tactil Para Auto Doble Din + Camara Rev'\n",
      " 'Stereo Auto Doble Din Pantalla Tactil Mirrorlink Camara Rev!'\n",
      " 'Stereo Pantalla Rebatible Tactil Bluetooth Dvd 7 Pulgadas'\n",
      " 'Estereo Android 8.1 Doble Din 7   Bt/wifi/gps Mran7b'] \n",
      " ['Stereo Auto Doble Din Pantalla Tactil Mirrorlink Camara Rev!'\n",
      " 'Stereo Auto Doble Din Pantalla Tactil Mirrorlink Camara Rev'\n",
      " 'Stereo Auto Doble Din Pantalla Tactil Mirrorlink Camara Rev'\n",
      " 'Stereo Auto Doble Din Pantalla Tactil Mirrorlink Camara Rev!'\n",
      " 'Stereo Auto Doble Din Pantalla Tactil Mirrorlink Camara Rev']\n"
     ]
    }
   ],
   "source": [
    "# Veo otro ejemplo\n",
    "ii = 12\n",
    "print(np.array(titles)[total_attr_idxs[ii]],'\\n',np.array(titles)[total_text_idxs[ii]])"
   ]
  },
  {
   "cell_type": "markdown",
   "metadata": {},
   "source": [
    "Consideraciones posibles: separar por seller, marca, precio, etc. Esto depende un poco de la estrategia de venta y que se le quiere mostrar al usuario. Se puede implementar desde el mismo algoritmo de Nearest Neighbors pasandole una métrica que pese más o menos a las distintas variables, o post-procesando los resultados también."
   ]
  },
  {
   "cell_type": "markdown",
   "metadata": {},
   "source": [
    "Otra forma posible de analizar las predicciones es haciendo una visualización del tipo _t-SNE_."
   ]
  },
  {
   "cell_type": "code",
   "execution_count": 194,
   "metadata": {},
   "outputs": [
    {
     "data": {
      "image/png": "[encoded data removed]",
      "text/plain": [
       "<Figure size 864x576 with 1 Axes>"
      ]
     },
     "metadata": {
      "needs_background": "light"
     },
     "output_type": "display_data"
    }
   ],
   "source": [
    "tsne = skmani.TSNE(n_components=2)\n",
    "tsne_results = tsne.fit_transform(X)\n",
    " \n",
    "data = {}\n",
    "data['tsne-2d-one'] = tsne_results[:,0]\n",
    "data['tsne-2d-two'] = tsne_results[:,1]\n",
    "plt.figure(figsize=(12,8))\n",
    "\n",
    "\n",
    "sns.scatterplot(\n",
    "    x=\"tsne-2d-one\", y=\"tsne-2d-two\",\n",
    "    palette=sns.color_palette(\"hls\", 10),\n",
    "    data=data,\n",
    "    legend=\"full\",\n",
    "    alpha=0.3\n",
    ")\n",
    "plt.xlabel('Coordenada 1')\n",
    "plt.ylabel('Coordenada 2')\n",
    "\n",
    "# Agrego las predicciones\n",
    "ii = res_text[0][0]\n",
    "plt.plot(data['tsne-2d-one'][ii], data['tsne-2d-two'][ii], 'ko', markersize=15, markerfacecolor='none')\n",
    "\n",
    "for ii in res_text[0][1:]:\n",
    "    plt.plot(data['tsne-2d-one'][ii], data['tsne-2d-two'][ii], 'o', markersize=8)\n",
    "    \n",
    "for ii in res_attr[0][1:]:\n",
    "    plt.plot(data['tsne-2d-one'][ii], data['tsne-2d-two'][ii], '^', markersize=8)\n"
   ]
  },
  {
   "cell_type": "code",
   "execution_count": 195,
   "metadata": {},
   "outputs": [
    {
     "data": {
      "image/png": "[encoded data removed]",
      "text/plain": [
       "<Figure size 864x576 with 1 Axes>"
      ]
     },
     "metadata": {
      "needs_background": "light"
     },
     "output_type": "display_data"
    }
   ],
   "source": [
    "tsne = skmani.TSNE(n_components=2)\n",
    "tsne_results = tsne.fit_transform(attributes)\n",
    " \n",
    "data = {}\n",
    "data['tsne-2d-one'] = tsne_results[:,0]\n",
    "data['tsne-2d-two'] = tsne_results[:,1]\n",
    "plt.figure(figsize=(12,8))\n",
    "\n",
    "\n",
    "sns.scatterplot(\n",
    "    x=\"tsne-2d-one\", y=\"tsne-2d-two\",\n",
    "    palette=sns.color_palette(\"hls\", 10),\n",
    "    data=data,\n",
    "    legend=\"full\",\n",
    "    alpha=0.3\n",
    ")\n",
    "plt.xlabel('Coordenada 1')\n",
    "plt.ylabel('Coordenada 2')\n",
    "\n",
    "# Agrego las predicciones\n",
    "ii = res_text[0][0]\n",
    "plt.plot(data['tsne-2d-one'][ii], data['tsne-2d-two'][ii], 'ko', markersize=15, markerfacecolor='none')\n",
    "\n",
    "for ii in res_text[0][1:]:\n",
    "    plt.plot(data['tsne-2d-one'][ii], data['tsne-2d-two'][ii], 'o', markersize=8)\n",
    "    \n",
    "for ii in res_attr[0][1:]:\n",
    "    plt.plot(data['tsne-2d-one'][ii], data['tsne-2d-two'][ii], '^', markersize=8)\n"
   ]
  },
  {
   "cell_type": "markdown",
   "metadata": {},
   "source": [
    "Podemos observar la existencia de clusters en los datos. Las predicciones obtenidas suelen estar en la vecindad del punto (aunque no sean estrictamente los más cercanos en esta visualización)."
   ]
  }
 ],
 "metadata": {
  "kernelspec": {
   "display_name": "Python 3",
   "language": "python",
   "name": "python3"
  },
  "language_info": {
   "codemirror_mode": {
    "name": "ipython",
    "version": 3
   },
   "file_extension": ".py",
   "mimetype": "text/x-python",
   "name": "python",
   "nbconvert_exporter": "python",
   "pygments_lexer": "ipython3",
   "version": "3.8.10"
  }
 },
 "nbformat": 4,
 "nbformat_minor": 4
}
